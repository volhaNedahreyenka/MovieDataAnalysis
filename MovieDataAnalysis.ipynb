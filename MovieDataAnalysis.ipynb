{
 "cells": [
  {
   "cell_type": "code",
   "execution_count": 1,
   "metadata": {},
   "outputs": [],
   "source": [
    "import pandas as pd\n",
    "import matplotlib.pyplot as plt\n",
    "import numpy as np\n",
    "%matplotlib inline"
   ]
  },
  {
   "cell_type": "code",
   "execution_count": 3,
   "metadata": {},
   "outputs": [],
   "source": [
    "m = pd.read_csv(\"movie.csv\")"
   ]
  },
  {
   "cell_type": "code",
   "execution_count": 4,
   "metadata": {},
   "outputs": [
    {
     "data": {
      "text/plain": [
       "['color',\n",
       " 'director_name',\n",
       " 'num_critic_for_reviews',\n",
       " 'duration',\n",
       " 'director_facebook_likes',\n",
       " 'actor_3_facebook_likes',\n",
       " 'actor_2_name',\n",
       " 'actor_1_facebook_likes',\n",
       " 'gross',\n",
       " 'genres',\n",
       " 'actor_1_name',\n",
       " 'movie_title',\n",
       " 'num_voted_users',\n",
       " 'cast_total_facebook_likes',\n",
       " 'actor_3_name',\n",
       " 'facenumber_in_poster',\n",
       " 'plot_keywords',\n",
       " 'movie_imdb_link',\n",
       " 'num_user_for_reviews',\n",
       " 'language',\n",
       " 'country',\n",
       " 'content_rating',\n",
       " 'budget',\n",
       " 'title_year',\n",
       " 'actor_2_facebook_likes',\n",
       " 'imdb_score',\n",
       " 'aspect_ratio',\n",
       " 'movie_facebook_likes']"
      ]
     },
     "execution_count": 4,
     "metadata": {},
     "output_type": "execute_result"
    }
   ],
   "source": [
    "list(m.columns)"
   ]
  },
  {
   "cell_type": "code",
   "execution_count": 5,
   "metadata": {},
   "outputs": [
    {
     "data": {
      "text/plain": [
       "color                         object\n",
       "director_name                 object\n",
       "num_critic_for_reviews       float64\n",
       "duration                     float64\n",
       "director_facebook_likes      float64\n",
       "actor_3_facebook_likes       float64\n",
       "actor_2_name                  object\n",
       "actor_1_facebook_likes       float64\n",
       "gross                        float64\n",
       "genres                        object\n",
       "actor_1_name                  object\n",
       "movie_title                   object\n",
       "num_voted_users                int64\n",
       "cast_total_facebook_likes      int64\n",
       "actor_3_name                  object\n",
       "facenumber_in_poster         float64\n",
       "plot_keywords                 object\n",
       "movie_imdb_link               object\n",
       "num_user_for_reviews         float64\n",
       "language                      object\n",
       "country                       object\n",
       "content_rating                object\n",
       "budget                       float64\n",
       "title_year                   float64\n",
       "actor_2_facebook_likes       float64\n",
       "imdb_score                   float64\n",
       "aspect_ratio                 float64\n",
       "movie_facebook_likes           int64\n",
       "dtype: object"
      ]
     },
     "execution_count": 5,
     "metadata": {},
     "output_type": "execute_result"
    }
   ],
   "source": [
    "m.dtypes"
   ]
  },
  {
   "cell_type": "code",
   "execution_count": 6,
   "metadata": {},
   "outputs": [
    {
     "data": {
      "text/html": [
       "<div>\n",
       "<style scoped>\n",
       "    .dataframe tbody tr th:only-of-type {\n",
       "        vertical-align: middle;\n",
       "    }\n",
       "\n",
       "    .dataframe tbody tr th {\n",
       "        vertical-align: top;\n",
       "    }\n",
       "\n",
       "    .dataframe thead th {\n",
       "        text-align: right;\n",
       "    }\n",
       "</style>\n",
       "<table border=\"1\" class=\"dataframe\">\n",
       "  <thead>\n",
       "    <tr style=\"text-align: right;\">\n",
       "      <th></th>\n",
       "      <th>color</th>\n",
       "      <th>director_name</th>\n",
       "      <th>num_critic_for_reviews</th>\n",
       "      <th>duration</th>\n",
       "      <th>director_facebook_likes</th>\n",
       "      <th>actor_3_facebook_likes</th>\n",
       "      <th>actor_2_name</th>\n",
       "      <th>actor_1_facebook_likes</th>\n",
       "      <th>gross</th>\n",
       "      <th>genres</th>\n",
       "      <th>...</th>\n",
       "      <th>num_user_for_reviews</th>\n",
       "      <th>language</th>\n",
       "      <th>country</th>\n",
       "      <th>content_rating</th>\n",
       "      <th>budget</th>\n",
       "      <th>title_year</th>\n",
       "      <th>actor_2_facebook_likes</th>\n",
       "      <th>imdb_score</th>\n",
       "      <th>aspect_ratio</th>\n",
       "      <th>movie_facebook_likes</th>\n",
       "    </tr>\n",
       "  </thead>\n",
       "  <tbody>\n",
       "    <tr>\n",
       "      <th>0</th>\n",
       "      <td>Color</td>\n",
       "      <td>James Cameron</td>\n",
       "      <td>723.0</td>\n",
       "      <td>178.0</td>\n",
       "      <td>0.0</td>\n",
       "      <td>855.0</td>\n",
       "      <td>Joel David Moore</td>\n",
       "      <td>1000.0</td>\n",
       "      <td>760505847.0</td>\n",
       "      <td>Action|Adventure|Fantasy|Sci-Fi</td>\n",
       "      <td>...</td>\n",
       "      <td>3054.0</td>\n",
       "      <td>English</td>\n",
       "      <td>USA</td>\n",
       "      <td>PG-13</td>\n",
       "      <td>237000000.0</td>\n",
       "      <td>2009.0</td>\n",
       "      <td>936.0</td>\n",
       "      <td>7.9</td>\n",
       "      <td>1.78</td>\n",
       "      <td>33000</td>\n",
       "    </tr>\n",
       "    <tr>\n",
       "      <th>1</th>\n",
       "      <td>Color</td>\n",
       "      <td>Gore Verbinski</td>\n",
       "      <td>302.0</td>\n",
       "      <td>169.0</td>\n",
       "      <td>563.0</td>\n",
       "      <td>1000.0</td>\n",
       "      <td>Orlando Bloom</td>\n",
       "      <td>40000.0</td>\n",
       "      <td>309404152.0</td>\n",
       "      <td>Action|Adventure|Fantasy</td>\n",
       "      <td>...</td>\n",
       "      <td>1238.0</td>\n",
       "      <td>English</td>\n",
       "      <td>USA</td>\n",
       "      <td>PG-13</td>\n",
       "      <td>300000000.0</td>\n",
       "      <td>2007.0</td>\n",
       "      <td>5000.0</td>\n",
       "      <td>7.1</td>\n",
       "      <td>2.35</td>\n",
       "      <td>0</td>\n",
       "    </tr>\n",
       "    <tr>\n",
       "      <th>2</th>\n",
       "      <td>Color</td>\n",
       "      <td>Sam Mendes</td>\n",
       "      <td>602.0</td>\n",
       "      <td>148.0</td>\n",
       "      <td>0.0</td>\n",
       "      <td>161.0</td>\n",
       "      <td>Rory Kinnear</td>\n",
       "      <td>11000.0</td>\n",
       "      <td>200074175.0</td>\n",
       "      <td>Action|Adventure|Thriller</td>\n",
       "      <td>...</td>\n",
       "      <td>994.0</td>\n",
       "      <td>English</td>\n",
       "      <td>UK</td>\n",
       "      <td>PG-13</td>\n",
       "      <td>245000000.0</td>\n",
       "      <td>2015.0</td>\n",
       "      <td>393.0</td>\n",
       "      <td>6.8</td>\n",
       "      <td>2.35</td>\n",
       "      <td>85000</td>\n",
       "    </tr>\n",
       "    <tr>\n",
       "      <th>3</th>\n",
       "      <td>Color</td>\n",
       "      <td>Christopher Nolan</td>\n",
       "      <td>813.0</td>\n",
       "      <td>164.0</td>\n",
       "      <td>22000.0</td>\n",
       "      <td>23000.0</td>\n",
       "      <td>Christian Bale</td>\n",
       "      <td>27000.0</td>\n",
       "      <td>448130642.0</td>\n",
       "      <td>Action|Thriller</td>\n",
       "      <td>...</td>\n",
       "      <td>2701.0</td>\n",
       "      <td>English</td>\n",
       "      <td>USA</td>\n",
       "      <td>PG-13</td>\n",
       "      <td>250000000.0</td>\n",
       "      <td>2012.0</td>\n",
       "      <td>23000.0</td>\n",
       "      <td>8.5</td>\n",
       "      <td>2.35</td>\n",
       "      <td>164000</td>\n",
       "    </tr>\n",
       "    <tr>\n",
       "      <th>4</th>\n",
       "      <td>NaN</td>\n",
       "      <td>Doug Walker</td>\n",
       "      <td>NaN</td>\n",
       "      <td>NaN</td>\n",
       "      <td>131.0</td>\n",
       "      <td>NaN</td>\n",
       "      <td>Rob Walker</td>\n",
       "      <td>131.0</td>\n",
       "      <td>NaN</td>\n",
       "      <td>Documentary</td>\n",
       "      <td>...</td>\n",
       "      <td>NaN</td>\n",
       "      <td>NaN</td>\n",
       "      <td>NaN</td>\n",
       "      <td>NaN</td>\n",
       "      <td>NaN</td>\n",
       "      <td>NaN</td>\n",
       "      <td>12.0</td>\n",
       "      <td>7.1</td>\n",
       "      <td>NaN</td>\n",
       "      <td>0</td>\n",
       "    </tr>\n",
       "  </tbody>\n",
       "</table>\n",
       "<p>5 rows × 28 columns</p>\n",
       "</div>"
      ],
      "text/plain": [
       "   color      director_name  num_critic_for_reviews  duration  \\\n",
       "0  Color      James Cameron                   723.0     178.0   \n",
       "1  Color     Gore Verbinski                   302.0     169.0   \n",
       "2  Color         Sam Mendes                   602.0     148.0   \n",
       "3  Color  Christopher Nolan                   813.0     164.0   \n",
       "4    NaN        Doug Walker                     NaN       NaN   \n",
       "\n",
       "   director_facebook_likes  actor_3_facebook_likes      actor_2_name  \\\n",
       "0                      0.0                   855.0  Joel David Moore   \n",
       "1                    563.0                  1000.0     Orlando Bloom   \n",
       "2                      0.0                   161.0      Rory Kinnear   \n",
       "3                  22000.0                 23000.0    Christian Bale   \n",
       "4                    131.0                     NaN        Rob Walker   \n",
       "\n",
       "   actor_1_facebook_likes        gross                           genres  ...  \\\n",
       "0                  1000.0  760505847.0  Action|Adventure|Fantasy|Sci-Fi  ...   \n",
       "1                 40000.0  309404152.0         Action|Adventure|Fantasy  ...   \n",
       "2                 11000.0  200074175.0        Action|Adventure|Thriller  ...   \n",
       "3                 27000.0  448130642.0                  Action|Thriller  ...   \n",
       "4                   131.0          NaN                      Documentary  ...   \n",
       "\n",
       "  num_user_for_reviews language  country  content_rating       budget  \\\n",
       "0               3054.0  English      USA           PG-13  237000000.0   \n",
       "1               1238.0  English      USA           PG-13  300000000.0   \n",
       "2                994.0  English       UK           PG-13  245000000.0   \n",
       "3               2701.0  English      USA           PG-13  250000000.0   \n",
       "4                  NaN      NaN      NaN             NaN          NaN   \n",
       "\n",
       "   title_year actor_2_facebook_likes imdb_score  aspect_ratio  \\\n",
       "0      2009.0                  936.0        7.9          1.78   \n",
       "1      2007.0                 5000.0        7.1          2.35   \n",
       "2      2015.0                  393.0        6.8          2.35   \n",
       "3      2012.0                23000.0        8.5          2.35   \n",
       "4         NaN                   12.0        7.1           NaN   \n",
       "\n",
       "  movie_facebook_likes  \n",
       "0                33000  \n",
       "1                    0  \n",
       "2                85000  \n",
       "3               164000  \n",
       "4                    0  \n",
       "\n",
       "[5 rows x 28 columns]"
      ]
     },
     "execution_count": 6,
     "metadata": {},
     "output_type": "execute_result"
    }
   ],
   "source": [
    "m.head()"
   ]
  },
  {
   "cell_type": "code",
   "execution_count": 7,
   "metadata": {},
   "outputs": [
    {
     "data": {
      "text/plain": [
       "(4916, 28)"
      ]
     },
     "execution_count": 7,
     "metadata": {},
     "output_type": "execute_result"
    }
   ],
   "source": [
    "m.shape\n"
   ]
  },
  {
   "cell_type": "markdown",
   "metadata": {},
   "source": [
    "### Set index of the dataset to the column movie_title"
   ]
  },
  {
   "cell_type": "code",
   "execution_count": 8,
   "metadata": {},
   "outputs": [],
   "source": [
    "m.set_index('movie_title', inplace = True)"
   ]
  },
  {
   "cell_type": "code",
   "execution_count": 9,
   "metadata": {},
   "outputs": [
    {
     "data": {
      "text/plain": [
       "movie_title\n",
       "Avatar                                            CCH Pounder\n",
       "Pirates of the Caribbean: At World's End          Johnny Depp\n",
       "Spectre                                       Christoph Waltz\n",
       "The Dark Knight Rises                               Tom Hardy\n",
       "Star Wars: Episode VII - The Force Awakens        Doug Walker\n",
       "                                                   ...       \n",
       "Signed Sealed Delivered                           Eric Mabius\n",
       "The Following                                     Natalie Zea\n",
       "A Plague So Pleasant                              Eva Boehnke\n",
       "Shanghai Calling                                    Alan Ruck\n",
       "My Date with Drew                                 John August\n",
       "Name: actor_1_name, Length: 4916, dtype: object"
      ]
     },
     "execution_count": 9,
     "metadata": {},
     "output_type": "execute_result"
    }
   ],
   "source": [
    "m['actor_1_name']"
   ]
  },
  {
   "cell_type": "code",
   "execution_count": 10,
   "metadata": {},
   "outputs": [
    {
     "data": {
      "text/html": [
       "<div>\n",
       "<style scoped>\n",
       "    .dataframe tbody tr th:only-of-type {\n",
       "        vertical-align: middle;\n",
       "    }\n",
       "\n",
       "    .dataframe tbody tr th {\n",
       "        vertical-align: top;\n",
       "    }\n",
       "\n",
       "    .dataframe thead th {\n",
       "        text-align: right;\n",
       "    }\n",
       "</style>\n",
       "<table border=\"1\" class=\"dataframe\">\n",
       "  <thead>\n",
       "    <tr style=\"text-align: right;\">\n",
       "      <th></th>\n",
       "      <th>actor_1_name</th>\n",
       "    </tr>\n",
       "    <tr>\n",
       "      <th>movie_title</th>\n",
       "      <th></th>\n",
       "    </tr>\n",
       "  </thead>\n",
       "  <tbody>\n",
       "    <tr>\n",
       "      <th>Avatar</th>\n",
       "      <td>CCH Pounder</td>\n",
       "    </tr>\n",
       "    <tr>\n",
       "      <th>Pirates of the Caribbean: At World's End</th>\n",
       "      <td>Johnny Depp</td>\n",
       "    </tr>\n",
       "    <tr>\n",
       "      <th>Spectre</th>\n",
       "      <td>Christoph Waltz</td>\n",
       "    </tr>\n",
       "    <tr>\n",
       "      <th>The Dark Knight Rises</th>\n",
       "      <td>Tom Hardy</td>\n",
       "    </tr>\n",
       "    <tr>\n",
       "      <th>Star Wars: Episode VII - The Force Awakens</th>\n",
       "      <td>Doug Walker</td>\n",
       "    </tr>\n",
       "    <tr>\n",
       "      <th>...</th>\n",
       "      <td>...</td>\n",
       "    </tr>\n",
       "    <tr>\n",
       "      <th>Signed Sealed Delivered</th>\n",
       "      <td>Eric Mabius</td>\n",
       "    </tr>\n",
       "    <tr>\n",
       "      <th>The Following</th>\n",
       "      <td>Natalie Zea</td>\n",
       "    </tr>\n",
       "    <tr>\n",
       "      <th>A Plague So Pleasant</th>\n",
       "      <td>Eva Boehnke</td>\n",
       "    </tr>\n",
       "    <tr>\n",
       "      <th>Shanghai Calling</th>\n",
       "      <td>Alan Ruck</td>\n",
       "    </tr>\n",
       "    <tr>\n",
       "      <th>My Date with Drew</th>\n",
       "      <td>John August</td>\n",
       "    </tr>\n",
       "  </tbody>\n",
       "</table>\n",
       "<p>4916 rows × 1 columns</p>\n",
       "</div>"
      ],
      "text/plain": [
       "                                               actor_1_name\n",
       "movie_title                                                \n",
       "Avatar                                          CCH Pounder\n",
       "Pirates of the Caribbean: At World's End        Johnny Depp\n",
       "Spectre                                     Christoph Waltz\n",
       "The Dark Knight Rises                             Tom Hardy\n",
       "Star Wars: Episode VII - The Force Awakens      Doug Walker\n",
       "...                                                     ...\n",
       "Signed Sealed Delivered                         Eric Mabius\n",
       "The Following                                   Natalie Zea\n",
       "A Plague So Pleasant                            Eva Boehnke\n",
       "Shanghai Calling                                  Alan Ruck\n",
       "My Date with Drew                               John August\n",
       "\n",
       "[4916 rows x 1 columns]"
      ]
     },
     "execution_count": 10,
     "metadata": {},
     "output_type": "execute_result"
    }
   ],
   "source": [
    "m[['actor_1_name']]"
   ]
  },
  {
   "cell_type": "markdown",
   "metadata": {},
   "source": [
    "### Create a new dataset which consists of three columns we are interested in."
   ]
  },
  {
   "cell_type": "code",
   "execution_count": 11,
   "metadata": {},
   "outputs": [
    {
     "data": {
      "text/html": [
       "<div>\n",
       "<style scoped>\n",
       "    .dataframe tbody tr th:only-of-type {\n",
       "        vertical-align: middle;\n",
       "    }\n",
       "\n",
       "    .dataframe tbody tr th {\n",
       "        vertical-align: top;\n",
       "    }\n",
       "\n",
       "    .dataframe thead th {\n",
       "        text-align: right;\n",
       "    }\n",
       "</style>\n",
       "<table border=\"1\" class=\"dataframe\">\n",
       "  <thead>\n",
       "    <tr style=\"text-align: right;\">\n",
       "      <th></th>\n",
       "      <th>actor_1_name</th>\n",
       "      <th>imdb_score</th>\n",
       "      <th>title_year</th>\n",
       "    </tr>\n",
       "    <tr>\n",
       "      <th>movie_title</th>\n",
       "      <th></th>\n",
       "      <th></th>\n",
       "      <th></th>\n",
       "    </tr>\n",
       "  </thead>\n",
       "  <tbody>\n",
       "    <tr>\n",
       "      <th>Avatar</th>\n",
       "      <td>CCH Pounder</td>\n",
       "      <td>7.9</td>\n",
       "      <td>2009.0</td>\n",
       "    </tr>\n",
       "    <tr>\n",
       "      <th>Pirates of the Caribbean: At World's End</th>\n",
       "      <td>Johnny Depp</td>\n",
       "      <td>7.1</td>\n",
       "      <td>2007.0</td>\n",
       "    </tr>\n",
       "    <tr>\n",
       "      <th>Spectre</th>\n",
       "      <td>Christoph Waltz</td>\n",
       "      <td>6.8</td>\n",
       "      <td>2015.0</td>\n",
       "    </tr>\n",
       "    <tr>\n",
       "      <th>The Dark Knight Rises</th>\n",
       "      <td>Tom Hardy</td>\n",
       "      <td>8.5</td>\n",
       "      <td>2012.0</td>\n",
       "    </tr>\n",
       "    <tr>\n",
       "      <th>Star Wars: Episode VII - The Force Awakens</th>\n",
       "      <td>Doug Walker</td>\n",
       "      <td>7.1</td>\n",
       "      <td>NaN</td>\n",
       "    </tr>\n",
       "  </tbody>\n",
       "</table>\n",
       "</div>"
      ],
      "text/plain": [
       "                                               actor_1_name  imdb_score  \\\n",
       "movie_title                                                               \n",
       "Avatar                                          CCH Pounder         7.9   \n",
       "Pirates of the Caribbean: At World's End        Johnny Depp         7.1   \n",
       "Spectre                                     Christoph Waltz         6.8   \n",
       "The Dark Knight Rises                             Tom Hardy         8.5   \n",
       "Star Wars: Episode VII - The Force Awakens      Doug Walker         7.1   \n",
       "\n",
       "                                            title_year  \n",
       "movie_title                                             \n",
       "Avatar                                          2009.0  \n",
       "Pirates of the Caribbean: At World's End        2007.0  \n",
       "Spectre                                         2015.0  \n",
       "The Dark Knight Rises                           2012.0  \n",
       "Star Wars: Episode VII - The Force Awakens         NaN  "
      ]
     },
     "execution_count": 11,
     "metadata": {},
     "output_type": "execute_result"
    }
   ],
   "source": [
    "dc = m[['actor_1_name', 'imdb_score','title_year']]\n",
    "dc.head()"
   ]
  },
  {
   "cell_type": "markdown",
   "metadata": {},
   "source": [
    "### We create a condition choosing a specific actor name"
   ]
  },
  {
   "cell_type": "code",
   "execution_count": 12,
   "metadata": {},
   "outputs": [],
   "source": [
    "condition = m['actor_1_name'] == 'Leonardo DiCaprio'"
   ]
  },
  {
   "cell_type": "code",
   "execution_count": 13,
   "metadata": {},
   "outputs": [
    {
     "data": {
      "text/plain": [
       "movie_title\n",
       "Avatar                                        False\n",
       "Pirates of the Caribbean: At World's End      False\n",
       "Spectre                                       False\n",
       "The Dark Knight Rises                         False\n",
       "Star Wars: Episode VII - The Force Awakens    False\n",
       "                                              ...  \n",
       "Signed Sealed Delivered                       False\n",
       "The Following                                 False\n",
       "A Plague So Pleasant                          False\n",
       "Shanghai Calling                              False\n",
       "My Date with Drew                             False\n",
       "Name: actor_1_name, Length: 4916, dtype: bool"
      ]
     },
     "execution_count": 13,
     "metadata": {},
     "output_type": "execute_result"
    }
   ],
   "source": [
    "condition"
   ]
  },
  {
   "cell_type": "markdown",
   "metadata": {},
   "source": [
    "### Drop unknown values from the column title_year"
   ]
  },
  {
   "cell_type": "code",
   "execution_count": 14,
   "metadata": {},
   "outputs": [
    {
     "data": {
      "text/html": [
       "<div>\n",
       "<style scoped>\n",
       "    .dataframe tbody tr th:only-of-type {\n",
       "        vertical-align: middle;\n",
       "    }\n",
       "\n",
       "    .dataframe tbody tr th {\n",
       "        vertical-align: top;\n",
       "    }\n",
       "\n",
       "    .dataframe thead th {\n",
       "        text-align: right;\n",
       "    }\n",
       "</style>\n",
       "<table border=\"1\" class=\"dataframe\">\n",
       "  <thead>\n",
       "    <tr style=\"text-align: right;\">\n",
       "      <th></th>\n",
       "      <th>actor_1_name</th>\n",
       "      <th>imdb_score</th>\n",
       "      <th>title_year</th>\n",
       "    </tr>\n",
       "    <tr>\n",
       "      <th>movie_title</th>\n",
       "      <th></th>\n",
       "      <th></th>\n",
       "      <th></th>\n",
       "    </tr>\n",
       "  </thead>\n",
       "  <tbody>\n",
       "    <tr>\n",
       "      <th>Titanic</th>\n",
       "      <td>Leonardo DiCaprio</td>\n",
       "      <td>7.7</td>\n",
       "      <td>1997.0</td>\n",
       "    </tr>\n",
       "    <tr>\n",
       "      <th>The Great Gatsby</th>\n",
       "      <td>Leonardo DiCaprio</td>\n",
       "      <td>7.3</td>\n",
       "      <td>2013.0</td>\n",
       "    </tr>\n",
       "    <tr>\n",
       "      <th>Inception</th>\n",
       "      <td>Leonardo DiCaprio</td>\n",
       "      <td>8.8</td>\n",
       "      <td>2010.0</td>\n",
       "    </tr>\n",
       "    <tr>\n",
       "      <th>The Revenant</th>\n",
       "      <td>Leonardo DiCaprio</td>\n",
       "      <td>8.1</td>\n",
       "      <td>2015.0</td>\n",
       "    </tr>\n",
       "    <tr>\n",
       "      <th>The Aviator</th>\n",
       "      <td>Leonardo DiCaprio</td>\n",
       "      <td>7.5</td>\n",
       "      <td>2004.0</td>\n",
       "    </tr>\n",
       "    <tr>\n",
       "      <th>Django Unchained</th>\n",
       "      <td>Leonardo DiCaprio</td>\n",
       "      <td>8.5</td>\n",
       "      <td>2012.0</td>\n",
       "    </tr>\n",
       "    <tr>\n",
       "      <th>Blood Diamond</th>\n",
       "      <td>Leonardo DiCaprio</td>\n",
       "      <td>8.0</td>\n",
       "      <td>2006.0</td>\n",
       "    </tr>\n",
       "    <tr>\n",
       "      <th>The Wolf of Wall Street</th>\n",
       "      <td>Leonardo DiCaprio</td>\n",
       "      <td>8.2</td>\n",
       "      <td>2013.0</td>\n",
       "    </tr>\n",
       "    <tr>\n",
       "      <th>Gangs of New York</th>\n",
       "      <td>Leonardo DiCaprio</td>\n",
       "      <td>7.5</td>\n",
       "      <td>2002.0</td>\n",
       "    </tr>\n",
       "    <tr>\n",
       "      <th>The Departed</th>\n",
       "      <td>Leonardo DiCaprio</td>\n",
       "      <td>8.5</td>\n",
       "      <td>2006.0</td>\n",
       "    </tr>\n",
       "    <tr>\n",
       "      <th>Shutter Island</th>\n",
       "      <td>Leonardo DiCaprio</td>\n",
       "      <td>8.1</td>\n",
       "      <td>2010.0</td>\n",
       "    </tr>\n",
       "    <tr>\n",
       "      <th>Body of Lies</th>\n",
       "      <td>Leonardo DiCaprio</td>\n",
       "      <td>7.1</td>\n",
       "      <td>2008.0</td>\n",
       "    </tr>\n",
       "    <tr>\n",
       "      <th>Catch Me If You Can</th>\n",
       "      <td>Leonardo DiCaprio</td>\n",
       "      <td>8.0</td>\n",
       "      <td>2002.0</td>\n",
       "    </tr>\n",
       "    <tr>\n",
       "      <th>The Beach</th>\n",
       "      <td>Leonardo DiCaprio</td>\n",
       "      <td>6.6</td>\n",
       "      <td>2000.0</td>\n",
       "    </tr>\n",
       "    <tr>\n",
       "      <th>Revolutionary Road</th>\n",
       "      <td>Leonardo DiCaprio</td>\n",
       "      <td>7.3</td>\n",
       "      <td>2008.0</td>\n",
       "    </tr>\n",
       "    <tr>\n",
       "      <th>The Man in the Iron Mask</th>\n",
       "      <td>Leonardo DiCaprio</td>\n",
       "      <td>6.4</td>\n",
       "      <td>1998.0</td>\n",
       "    </tr>\n",
       "    <tr>\n",
       "      <th>J. Edgar</th>\n",
       "      <td>Leonardo DiCaprio</td>\n",
       "      <td>6.6</td>\n",
       "      <td>2011.0</td>\n",
       "    </tr>\n",
       "    <tr>\n",
       "      <th>The Quick and the Dead</th>\n",
       "      <td>Leonardo DiCaprio</td>\n",
       "      <td>6.4</td>\n",
       "      <td>1995.0</td>\n",
       "    </tr>\n",
       "    <tr>\n",
       "      <th>Marvin's Room</th>\n",
       "      <td>Leonardo DiCaprio</td>\n",
       "      <td>6.7</td>\n",
       "      <td>1996.0</td>\n",
       "    </tr>\n",
       "    <tr>\n",
       "      <th>Romeo + Juliet</th>\n",
       "      <td>Leonardo DiCaprio</td>\n",
       "      <td>6.8</td>\n",
       "      <td>1996.0</td>\n",
       "    </tr>\n",
       "  </tbody>\n",
       "</table>\n",
       "</div>"
      ],
      "text/plain": [
       "                               actor_1_name  imdb_score  title_year\n",
       "movie_title                                                        \n",
       "Titanic                   Leonardo DiCaprio         7.7      1997.0\n",
       "The Great Gatsby          Leonardo DiCaprio         7.3      2013.0\n",
       "Inception                 Leonardo DiCaprio         8.8      2010.0\n",
       "The Revenant              Leonardo DiCaprio         8.1      2015.0\n",
       "The Aviator               Leonardo DiCaprio         7.5      2004.0\n",
       "Django Unchained          Leonardo DiCaprio         8.5      2012.0\n",
       "Blood Diamond             Leonardo DiCaprio         8.0      2006.0\n",
       "The Wolf of Wall Street   Leonardo DiCaprio         8.2      2013.0\n",
       "Gangs of New York         Leonardo DiCaprio         7.5      2002.0\n",
       "The Departed              Leonardo DiCaprio         8.5      2006.0\n",
       "Shutter Island            Leonardo DiCaprio         8.1      2010.0\n",
       "Body of Lies              Leonardo DiCaprio         7.1      2008.0\n",
       "Catch Me If You Can       Leonardo DiCaprio         8.0      2002.0\n",
       "The Beach                 Leonardo DiCaprio         6.6      2000.0\n",
       "Revolutionary Road        Leonardo DiCaprio         7.3      2008.0\n",
       "The Man in the Iron Mask  Leonardo DiCaprio         6.4      1998.0\n",
       "J. Edgar                  Leonardo DiCaprio         6.6      2011.0\n",
       "The Quick and the Dead    Leonardo DiCaprio         6.4      1995.0\n",
       "Marvin's Room             Leonardo DiCaprio         6.7      1996.0\n",
       "Romeo + Juliet            Leonardo DiCaprio         6.8      1996.0"
      ]
     },
     "execution_count": 14,
     "metadata": {},
     "output_type": "execute_result"
    }
   ],
   "source": [
    "dc1 = dc[condition].dropna()\n",
    "dc1"
   ]
  },
  {
   "cell_type": "markdown",
   "metadata": {},
   "source": [
    "### We sort values in the year column in ascending order"
   ]
  },
  {
   "cell_type": "code",
   "execution_count": 15,
   "metadata": {},
   "outputs": [
    {
     "data": {
      "text/html": [
       "<div>\n",
       "<style scoped>\n",
       "    .dataframe tbody tr th:only-of-type {\n",
       "        vertical-align: middle;\n",
       "    }\n",
       "\n",
       "    .dataframe tbody tr th {\n",
       "        vertical-align: top;\n",
       "    }\n",
       "\n",
       "    .dataframe thead th {\n",
       "        text-align: right;\n",
       "    }\n",
       "</style>\n",
       "<table border=\"1\" class=\"dataframe\">\n",
       "  <thead>\n",
       "    <tr style=\"text-align: right;\">\n",
       "      <th></th>\n",
       "      <th>actor_1_name</th>\n",
       "      <th>imdb_score</th>\n",
       "      <th>title_year</th>\n",
       "    </tr>\n",
       "    <tr>\n",
       "      <th>movie_title</th>\n",
       "      <th></th>\n",
       "      <th></th>\n",
       "      <th></th>\n",
       "    </tr>\n",
       "  </thead>\n",
       "  <tbody>\n",
       "    <tr>\n",
       "      <th>The Quick and the Dead</th>\n",
       "      <td>Leonardo DiCaprio</td>\n",
       "      <td>6.4</td>\n",
       "      <td>1995.0</td>\n",
       "    </tr>\n",
       "    <tr>\n",
       "      <th>Romeo + Juliet</th>\n",
       "      <td>Leonardo DiCaprio</td>\n",
       "      <td>6.8</td>\n",
       "      <td>1996.0</td>\n",
       "    </tr>\n",
       "    <tr>\n",
       "      <th>Marvin's Room</th>\n",
       "      <td>Leonardo DiCaprio</td>\n",
       "      <td>6.7</td>\n",
       "      <td>1996.0</td>\n",
       "    </tr>\n",
       "    <tr>\n",
       "      <th>Titanic</th>\n",
       "      <td>Leonardo DiCaprio</td>\n",
       "      <td>7.7</td>\n",
       "      <td>1997.0</td>\n",
       "    </tr>\n",
       "    <tr>\n",
       "      <th>The Man in the Iron Mask</th>\n",
       "      <td>Leonardo DiCaprio</td>\n",
       "      <td>6.4</td>\n",
       "      <td>1998.0</td>\n",
       "    </tr>\n",
       "    <tr>\n",
       "      <th>The Beach</th>\n",
       "      <td>Leonardo DiCaprio</td>\n",
       "      <td>6.6</td>\n",
       "      <td>2000.0</td>\n",
       "    </tr>\n",
       "    <tr>\n",
       "      <th>Gangs of New York</th>\n",
       "      <td>Leonardo DiCaprio</td>\n",
       "      <td>7.5</td>\n",
       "      <td>2002.0</td>\n",
       "    </tr>\n",
       "    <tr>\n",
       "      <th>Catch Me If You Can</th>\n",
       "      <td>Leonardo DiCaprio</td>\n",
       "      <td>8.0</td>\n",
       "      <td>2002.0</td>\n",
       "    </tr>\n",
       "    <tr>\n",
       "      <th>The Aviator</th>\n",
       "      <td>Leonardo DiCaprio</td>\n",
       "      <td>7.5</td>\n",
       "      <td>2004.0</td>\n",
       "    </tr>\n",
       "    <tr>\n",
       "      <th>Blood Diamond</th>\n",
       "      <td>Leonardo DiCaprio</td>\n",
       "      <td>8.0</td>\n",
       "      <td>2006.0</td>\n",
       "    </tr>\n",
       "    <tr>\n",
       "      <th>The Departed</th>\n",
       "      <td>Leonardo DiCaprio</td>\n",
       "      <td>8.5</td>\n",
       "      <td>2006.0</td>\n",
       "    </tr>\n",
       "    <tr>\n",
       "      <th>Body of Lies</th>\n",
       "      <td>Leonardo DiCaprio</td>\n",
       "      <td>7.1</td>\n",
       "      <td>2008.0</td>\n",
       "    </tr>\n",
       "    <tr>\n",
       "      <th>Revolutionary Road</th>\n",
       "      <td>Leonardo DiCaprio</td>\n",
       "      <td>7.3</td>\n",
       "      <td>2008.0</td>\n",
       "    </tr>\n",
       "    <tr>\n",
       "      <th>Inception</th>\n",
       "      <td>Leonardo DiCaprio</td>\n",
       "      <td>8.8</td>\n",
       "      <td>2010.0</td>\n",
       "    </tr>\n",
       "    <tr>\n",
       "      <th>Shutter Island</th>\n",
       "      <td>Leonardo DiCaprio</td>\n",
       "      <td>8.1</td>\n",
       "      <td>2010.0</td>\n",
       "    </tr>\n",
       "    <tr>\n",
       "      <th>J. Edgar</th>\n",
       "      <td>Leonardo DiCaprio</td>\n",
       "      <td>6.6</td>\n",
       "      <td>2011.0</td>\n",
       "    </tr>\n",
       "    <tr>\n",
       "      <th>Django Unchained</th>\n",
       "      <td>Leonardo DiCaprio</td>\n",
       "      <td>8.5</td>\n",
       "      <td>2012.0</td>\n",
       "    </tr>\n",
       "    <tr>\n",
       "      <th>The Wolf of Wall Street</th>\n",
       "      <td>Leonardo DiCaprio</td>\n",
       "      <td>8.2</td>\n",
       "      <td>2013.0</td>\n",
       "    </tr>\n",
       "    <tr>\n",
       "      <th>The Great Gatsby</th>\n",
       "      <td>Leonardo DiCaprio</td>\n",
       "      <td>7.3</td>\n",
       "      <td>2013.0</td>\n",
       "    </tr>\n",
       "    <tr>\n",
       "      <th>The Revenant</th>\n",
       "      <td>Leonardo DiCaprio</td>\n",
       "      <td>8.1</td>\n",
       "      <td>2015.0</td>\n",
       "    </tr>\n",
       "  </tbody>\n",
       "</table>\n",
       "</div>"
      ],
      "text/plain": [
       "                               actor_1_name  imdb_score  title_year\n",
       "movie_title                                                        \n",
       "The Quick and the Dead    Leonardo DiCaprio         6.4      1995.0\n",
       "Romeo + Juliet            Leonardo DiCaprio         6.8      1996.0\n",
       "Marvin's Room             Leonardo DiCaprio         6.7      1996.0\n",
       "Titanic                   Leonardo DiCaprio         7.7      1997.0\n",
       "The Man in the Iron Mask  Leonardo DiCaprio         6.4      1998.0\n",
       "The Beach                 Leonardo DiCaprio         6.6      2000.0\n",
       "Gangs of New York         Leonardo DiCaprio         7.5      2002.0\n",
       "Catch Me If You Can       Leonardo DiCaprio         8.0      2002.0\n",
       "The Aviator               Leonardo DiCaprio         7.5      2004.0\n",
       "Blood Diamond             Leonardo DiCaprio         8.0      2006.0\n",
       "The Departed              Leonardo DiCaprio         8.5      2006.0\n",
       "Body of Lies              Leonardo DiCaprio         7.1      2008.0\n",
       "Revolutionary Road        Leonardo DiCaprio         7.3      2008.0\n",
       "Inception                 Leonardo DiCaprio         8.8      2010.0\n",
       "Shutter Island            Leonardo DiCaprio         8.1      2010.0\n",
       "J. Edgar                  Leonardo DiCaprio         6.6      2011.0\n",
       "Django Unchained          Leonardo DiCaprio         8.5      2012.0\n",
       "The Wolf of Wall Street   Leonardo DiCaprio         8.2      2013.0\n",
       "The Great Gatsby          Leonardo DiCaprio         7.3      2013.0\n",
       "The Revenant              Leonardo DiCaprio         8.1      2015.0"
      ]
     },
     "execution_count": 15,
     "metadata": {},
     "output_type": "execute_result"
    }
   ],
   "source": [
    "dc2 = dc1.sort_values('title_year',ascending=True)\n",
    "dc2"
   ]
  },
  {
   "cell_type": "markdown",
   "metadata": {},
   "source": [
    "### Convert values in the year column into the integer datatype "
   ]
  },
  {
   "cell_type": "code",
   "execution_count": 16,
   "metadata": {},
   "outputs": [],
   "source": [
    "dc2.title_year = dc2.title_year.astype(int)"
   ]
  },
  {
   "cell_type": "code",
   "execution_count": 17,
   "metadata": {},
   "outputs": [
    {
     "data": {
      "text/html": [
       "<div>\n",
       "<style scoped>\n",
       "    .dataframe tbody tr th:only-of-type {\n",
       "        vertical-align: middle;\n",
       "    }\n",
       "\n",
       "    .dataframe tbody tr th {\n",
       "        vertical-align: top;\n",
       "    }\n",
       "\n",
       "    .dataframe thead th {\n",
       "        text-align: right;\n",
       "    }\n",
       "</style>\n",
       "<table border=\"1\" class=\"dataframe\">\n",
       "  <thead>\n",
       "    <tr style=\"text-align: right;\">\n",
       "      <th></th>\n",
       "      <th>actor_1_name</th>\n",
       "      <th>imdb_score</th>\n",
       "      <th>title_year</th>\n",
       "    </tr>\n",
       "    <tr>\n",
       "      <th>movie_title</th>\n",
       "      <th></th>\n",
       "      <th></th>\n",
       "      <th></th>\n",
       "    </tr>\n",
       "  </thead>\n",
       "  <tbody>\n",
       "    <tr>\n",
       "      <th>The Quick and the Dead</th>\n",
       "      <td>Leonardo DiCaprio</td>\n",
       "      <td>6.4</td>\n",
       "      <td>1995</td>\n",
       "    </tr>\n",
       "    <tr>\n",
       "      <th>Romeo + Juliet</th>\n",
       "      <td>Leonardo DiCaprio</td>\n",
       "      <td>6.8</td>\n",
       "      <td>1996</td>\n",
       "    </tr>\n",
       "    <tr>\n",
       "      <th>Marvin's Room</th>\n",
       "      <td>Leonardo DiCaprio</td>\n",
       "      <td>6.7</td>\n",
       "      <td>1996</td>\n",
       "    </tr>\n",
       "    <tr>\n",
       "      <th>Titanic</th>\n",
       "      <td>Leonardo DiCaprio</td>\n",
       "      <td>7.7</td>\n",
       "      <td>1997</td>\n",
       "    </tr>\n",
       "    <tr>\n",
       "      <th>The Man in the Iron Mask</th>\n",
       "      <td>Leonardo DiCaprio</td>\n",
       "      <td>6.4</td>\n",
       "      <td>1998</td>\n",
       "    </tr>\n",
       "  </tbody>\n",
       "</table>\n",
       "</div>"
      ],
      "text/plain": [
       "                               actor_1_name  imdb_score  title_year\n",
       "movie_title                                                        \n",
       "The Quick and the Dead    Leonardo DiCaprio         6.4        1995\n",
       "Romeo + Juliet            Leonardo DiCaprio         6.8        1996\n",
       "Marvin's Room             Leonardo DiCaprio         6.7        1996\n",
       "Titanic                   Leonardo DiCaprio         7.7        1997\n",
       "The Man in the Iron Mask  Leonardo DiCaprio         6.4        1998"
      ]
     },
     "execution_count": 17,
     "metadata": {},
     "output_type": "execute_result"
    }
   ],
   "source": [
    "dc2.head()"
   ]
  },
  {
   "cell_type": "markdown",
   "metadata": {},
   "source": [
    "### Create a line graph that shows IMDB scores of DiCaprio movies."
   ]
  },
  {
   "cell_type": "code",
   "execution_count": 20,
   "metadata": {},
   "outputs": [
    {
     "data": {
      "text/plain": [
       "<Figure size 2160x1440 with 0 Axes>"
      ]
     },
     "metadata": {},
     "output_type": "display_data"
    },
    {
     "data": {
      "image/png": "[encoded data removed]",
      "text/plain": [
       "<Figure size 432x288 with 1 Axes>"
      ]
     },
     "metadata": {},
     "output_type": "display_data"
    }
   ],
   "source": [
    "plt.style.use(\"ggplot\")\n",
    "fig = plt.figure(figsize=(20,10))\n",
    "dc2.plot('title_year','imdb_score',marker='o', linestyle='solid',color='orange',legend=False)   \n",
    "first_score=6\n",
    "last_score=9\n",
    "plt.ylim(first_score,last_score)\n",
    "scores=list(range(first_score,last_score))\n",
    "scores_str =[str(i) for i in range(first_score,last_score)]\n",
    "plt.xticks(scores,scores_str,rotation=0)\n",
    "first_year=1993\n",
    "last_year=2017\n",
    "plt.xlim(first_year,last_year)\n",
    "years=list(range(first_year,last_year))\n",
    "years_str =[str(i) for i in range(first_year,last_year)]\n",
    "plt.xticks(years,years_str,rotation=45)\n",
    "plt.title('IMDB score of movies with Leonardo DiCaprio\\n playing a main character', alpha=.6,color='black',fontsize=13)\n",
    "plt.xlabel('Years')\n",
    "plt.ylabel(\"IMDB score\")\n",
    "plt.text(1995,8.6,'*The maximum possible\\n score is 10', color='red')\n",
    "\n",
    "plt.text(2006,8.8,'The Inception',fontsize=8)\n",
    "plt.text(2004,8.6,'The Departed',fontsize=8)\n",
    "plt.text(2010.2,6.4,'J.Edgar',fontsize=8)\n",
    "plt.text(1993.1,6.10,'The Quick\\n and the Dead',fontsize=8)\n",
    "plt.text(1997.3,6.2,'The Man in the Iron Mask',fontsize=8)\n",
    "plt.text(2000.3,6.5,'The Beach',fontsize=8)\n",
    "plt.text(1993.3,6.5,\"Marvin's\\n Room\",fontsize=8)\n",
    "plt.text(1994,6.9,'Romeo\\n  +\\nJuliet',fontsize=8)\n",
    "plt.text(1996.5,7.8,'Titanic',fontsize=8)\n",
    "plt.text(1999,7.4,'Gangs of\\n New York',fontsize=8)\n",
    "plt.text(1999.9,8.1,'Catch Me\\n If You Can',fontsize=8)\n",
    "plt.text(2004.6,7.5,'  The\\n Aviator',fontsize=8)\n",
    "plt.text(2003.3,8,'Blood\\nDiamond',fontsize=8)\n",
    "plt.text(2006.4,6.95,'Body of Lies',fontsize=8)\n",
    "plt.text(2003.2,7.1,'Revolutionary\\n Road',fontsize=8)\n",
    "plt.text(2012.7,8.25,'The Wolf of\\n Wall Street',fontsize=8)\n",
    "plt.text(2012,7,'The Great\\n Gatsby',fontsize=8)\n",
    "plt.text(2011,8.65,'Django\\n Unchained',fontsize=8)\n",
    "plt.text(2010.2,8.1,'Shutter\\n Island',fontsize=8)\n",
    "plt.text(2014.1,7.7,'    The\\n Revenant',fontsize=8)\n",
    "       \n",
    "plt.text(2007,6.05,'Source: dataset \"movies\"',fontsize=11,color='black',alpha=0.6)\n",
    "plt.savefig('dicaprio_imdb.jpg')\n",
    "plt.show()"
   ]
  },
  {
   "cell_type": "code",
   "execution_count": 21,
   "metadata": {},
   "outputs": [
    {
     "data": {
      "text/plain": [
       "movie_title\n",
       "Avatar                                            James Cameron\n",
       "Pirates of the Caribbean: At World's End         Gore Verbinski\n",
       "Spectre                                              Sam Mendes\n",
       "The Dark Knight Rises                         Christopher Nolan\n",
       "Star Wars: Episode VII - The Force Awakens          Doug Walker\n",
       "                                                    ...        \n",
       "Signed Sealed Delivered                             Scott Smith\n",
       "The Following                                               NaN\n",
       "A Plague So Pleasant                           Benjamin Roberds\n",
       "Shanghai Calling                                    Daniel Hsia\n",
       "My Date with Drew                                      Jon Gunn\n",
       "Name: director_name, Length: 4916, dtype: object"
      ]
     },
     "execution_count": 21,
     "metadata": {},
     "output_type": "execute_result"
    }
   ],
   "source": [
    "m['director_name']"
   ]
  },
  {
   "cell_type": "code",
   "execution_count": 22,
   "metadata": {},
   "outputs": [
    {
     "data": {
      "text/html": [
       "<div>\n",
       "<style scoped>\n",
       "    .dataframe tbody tr th:only-of-type {\n",
       "        vertical-align: middle;\n",
       "    }\n",
       "\n",
       "    .dataframe tbody tr th {\n",
       "        vertical-align: top;\n",
       "    }\n",
       "\n",
       "    .dataframe thead th {\n",
       "        text-align: right;\n",
       "    }\n",
       "</style>\n",
       "<table border=\"1\" class=\"dataframe\">\n",
       "  <thead>\n",
       "    <tr style=\"text-align: right;\">\n",
       "      <th></th>\n",
       "      <th>director_name</th>\n",
       "    </tr>\n",
       "    <tr>\n",
       "      <th>movie_title</th>\n",
       "      <th></th>\n",
       "    </tr>\n",
       "  </thead>\n",
       "  <tbody>\n",
       "    <tr>\n",
       "      <th>Avatar</th>\n",
       "      <td>James Cameron</td>\n",
       "    </tr>\n",
       "    <tr>\n",
       "      <th>Pirates of the Caribbean: At World's End</th>\n",
       "      <td>Gore Verbinski</td>\n",
       "    </tr>\n",
       "    <tr>\n",
       "      <th>Spectre</th>\n",
       "      <td>Sam Mendes</td>\n",
       "    </tr>\n",
       "    <tr>\n",
       "      <th>The Dark Knight Rises</th>\n",
       "      <td>Christopher Nolan</td>\n",
       "    </tr>\n",
       "    <tr>\n",
       "      <th>Star Wars: Episode VII - The Force Awakens</th>\n",
       "      <td>Doug Walker</td>\n",
       "    </tr>\n",
       "    <tr>\n",
       "      <th>...</th>\n",
       "      <td>...</td>\n",
       "    </tr>\n",
       "    <tr>\n",
       "      <th>Signed Sealed Delivered</th>\n",
       "      <td>Scott Smith</td>\n",
       "    </tr>\n",
       "    <tr>\n",
       "      <th>The Following</th>\n",
       "      <td>NaN</td>\n",
       "    </tr>\n",
       "    <tr>\n",
       "      <th>A Plague So Pleasant</th>\n",
       "      <td>Benjamin Roberds</td>\n",
       "    </tr>\n",
       "    <tr>\n",
       "      <th>Shanghai Calling</th>\n",
       "      <td>Daniel Hsia</td>\n",
       "    </tr>\n",
       "    <tr>\n",
       "      <th>My Date with Drew</th>\n",
       "      <td>Jon Gunn</td>\n",
       "    </tr>\n",
       "  </tbody>\n",
       "</table>\n",
       "<p>4916 rows × 1 columns</p>\n",
       "</div>"
      ],
      "text/plain": [
       "                                                director_name\n",
       "movie_title                                                  \n",
       "Avatar                                          James Cameron\n",
       "Pirates of the Caribbean: At World's End       Gore Verbinski\n",
       "Spectre                                            Sam Mendes\n",
       "The Dark Knight Rises                       Christopher Nolan\n",
       "Star Wars: Episode VII - The Force Awakens        Doug Walker\n",
       "...                                                       ...\n",
       "Signed Sealed Delivered                           Scott Smith\n",
       "The Following                                             NaN\n",
       "A Plague So Pleasant                         Benjamin Roberds\n",
       "Shanghai Calling                                  Daniel Hsia\n",
       "My Date with Drew                                    Jon Gunn\n",
       "\n",
       "[4916 rows x 1 columns]"
      ]
     },
     "execution_count": 22,
     "metadata": {},
     "output_type": "execute_result"
    }
   ],
   "source": [
    "m[['director_name']]"
   ]
  },
  {
   "cell_type": "markdown",
   "metadata": {},
   "source": [
    "### We create a return column dividing values of 'gross' column by the values of 'budget' column."
   ]
  },
  {
   "cell_type": "code",
   "execution_count": 24,
   "metadata": {},
   "outputs": [],
   "source": [
    "m['return'] = m['gross']/m['budget']"
   ]
  },
  {
   "cell_type": "markdown",
   "metadata": {},
   "source": [
    "### We create a new dataset with the two columns we are interested in."
   ]
  },
  {
   "cell_type": "code",
   "execution_count": 25,
   "metadata": {},
   "outputs": [
    {
     "data": {
      "text/html": [
       "<div>\n",
       "<style scoped>\n",
       "    .dataframe tbody tr th:only-of-type {\n",
       "        vertical-align: middle;\n",
       "    }\n",
       "\n",
       "    .dataframe tbody tr th {\n",
       "        vertical-align: top;\n",
       "    }\n",
       "\n",
       "    .dataframe thead th {\n",
       "        text-align: right;\n",
       "    }\n",
       "</style>\n",
       "<table border=\"1\" class=\"dataframe\">\n",
       "  <thead>\n",
       "    <tr style=\"text-align: right;\">\n",
       "      <th></th>\n",
       "      <th>director_name</th>\n",
       "      <th>return</th>\n",
       "    </tr>\n",
       "    <tr>\n",
       "      <th>movie_title</th>\n",
       "      <th></th>\n",
       "      <th></th>\n",
       "    </tr>\n",
       "  </thead>\n",
       "  <tbody>\n",
       "    <tr>\n",
       "      <th>Avatar</th>\n",
       "      <td>James Cameron</td>\n",
       "      <td>3.208885</td>\n",
       "    </tr>\n",
       "    <tr>\n",
       "      <th>Pirates of the Caribbean: At World's End</th>\n",
       "      <td>Gore Verbinski</td>\n",
       "      <td>1.031347</td>\n",
       "    </tr>\n",
       "    <tr>\n",
       "      <th>Spectre</th>\n",
       "      <td>Sam Mendes</td>\n",
       "      <td>0.816629</td>\n",
       "    </tr>\n",
       "    <tr>\n",
       "      <th>The Dark Knight Rises</th>\n",
       "      <td>Christopher Nolan</td>\n",
       "      <td>1.792523</td>\n",
       "    </tr>\n",
       "    <tr>\n",
       "      <th>Star Wars: Episode VII - The Force Awakens</th>\n",
       "      <td>Doug Walker</td>\n",
       "      <td>NaN</td>\n",
       "    </tr>\n",
       "  </tbody>\n",
       "</table>\n",
       "</div>"
      ],
      "text/plain": [
       "                                                director_name    return\n",
       "movie_title                                                            \n",
       "Avatar                                          James Cameron  3.208885\n",
       "Pirates of the Caribbean: At World's End       Gore Verbinski  1.031347\n",
       "Spectre                                            Sam Mendes  0.816629\n",
       "The Dark Knight Rises                       Christopher Nolan  1.792523\n",
       "Star Wars: Episode VII - The Force Awakens        Doug Walker       NaN"
      ]
     },
     "execution_count": 25,
     "metadata": {},
     "output_type": "execute_result"
    }
   ],
   "source": [
    "sc = m[['director_name', 'return']]\n",
    "sc.head()"
   ]
  },
  {
   "cell_type": "markdown",
   "metadata": {},
   "source": [
    "### We create a condition choosing a specific director name"
   ]
  },
  {
   "cell_type": "code",
   "execution_count": 26,
   "metadata": {},
   "outputs": [],
   "source": [
    "condition2 = m['director_name'] == 'Martin Scorsese'"
   ]
  },
  {
   "cell_type": "code",
   "execution_count": 27,
   "metadata": {},
   "outputs": [
    {
     "data": {
      "text/plain": [
       "movie_title\n",
       "Avatar                                        False\n",
       "Pirates of the Caribbean: At World's End      False\n",
       "Spectre                                       False\n",
       "The Dark Knight Rises                         False\n",
       "Star Wars: Episode VII - The Force Awakens    False\n",
       "                                              ...  \n",
       "Signed Sealed Delivered                       False\n",
       "The Following                                 False\n",
       "A Plague So Pleasant                          False\n",
       "Shanghai Calling                              False\n",
       "My Date with Drew                             False\n",
       "Name: director_name, Length: 4916, dtype: bool"
      ]
     },
     "execution_count": 27,
     "metadata": {},
     "output_type": "execute_result"
    }
   ],
   "source": [
    "condition2"
   ]
  },
  {
   "cell_type": "markdown",
   "metadata": {},
   "source": [
    "### Drop unknown values from the column title_year"
   ]
  },
  {
   "cell_type": "code",
   "execution_count": 28,
   "metadata": {},
   "outputs": [
    {
     "data": {
      "text/html": [
       "<div>\n",
       "<style scoped>\n",
       "    .dataframe tbody tr th:only-of-type {\n",
       "        vertical-align: middle;\n",
       "    }\n",
       "\n",
       "    .dataframe tbody tr th {\n",
       "        vertical-align: top;\n",
       "    }\n",
       "\n",
       "    .dataframe thead th {\n",
       "        text-align: right;\n",
       "    }\n",
       "</style>\n",
       "<table border=\"1\" class=\"dataframe\">\n",
       "  <thead>\n",
       "    <tr style=\"text-align: right;\">\n",
       "      <th></th>\n",
       "      <th>director_name</th>\n",
       "      <th>return</th>\n",
       "    </tr>\n",
       "    <tr>\n",
       "      <th>movie_title</th>\n",
       "      <th></th>\n",
       "      <th></th>\n",
       "    </tr>\n",
       "  </thead>\n",
       "  <tbody>\n",
       "    <tr>\n",
       "      <th>Hugo</th>\n",
       "      <td>Martin Scorsese</td>\n",
       "      <td>0.434236</td>\n",
       "    </tr>\n",
       "    <tr>\n",
       "      <th>The Aviator</th>\n",
       "      <td>Martin Scorsese</td>\n",
       "      <td>0.932808</td>\n",
       "    </tr>\n",
       "    <tr>\n",
       "      <th>The Wolf of Wall Street</th>\n",
       "      <td>Martin Scorsese</td>\n",
       "      <td>1.168667</td>\n",
       "    </tr>\n",
       "    <tr>\n",
       "      <th>Gangs of New York</th>\n",
       "      <td>Martin Scorsese</td>\n",
       "      <td>0.776796</td>\n",
       "    </tr>\n",
       "    <tr>\n",
       "      <th>The Departed</th>\n",
       "      <td>Martin Scorsese</td>\n",
       "      <td>1.470816</td>\n",
       "    </tr>\n",
       "    <tr>\n",
       "      <th>Shutter Island</th>\n",
       "      <td>Martin Scorsese</td>\n",
       "      <td>1.599605</td>\n",
       "    </tr>\n",
       "    <tr>\n",
       "      <th>Casino</th>\n",
       "      <td>Martin Scorsese</td>\n",
       "      <td>0.816121</td>\n",
       "    </tr>\n",
       "    <tr>\n",
       "      <th>Mean Streets</th>\n",
       "      <td>Martin Scorsese</td>\n",
       "      <td>0.065290</td>\n",
       "    </tr>\n",
       "    <tr>\n",
       "      <th>Cape Fear</th>\n",
       "      <td>Martin Scorsese</td>\n",
       "      <td>2.260000</td>\n",
       "    </tr>\n",
       "    <tr>\n",
       "      <th>The Age of Innocence</th>\n",
       "      <td>Martin Scorsese</td>\n",
       "      <td>1.066667</td>\n",
       "    </tr>\n",
       "    <tr>\n",
       "      <th>Bringing Out the Dead</th>\n",
       "      <td>Martin Scorsese</td>\n",
       "      <td>0.302549</td>\n",
       "    </tr>\n",
       "    <tr>\n",
       "      <th>Kundun</th>\n",
       "      <td>Martin Scorsese</td>\n",
       "      <td>0.197582</td>\n",
       "    </tr>\n",
       "    <tr>\n",
       "      <th>Goodfellas</th>\n",
       "      <td>Martin Scorsese</td>\n",
       "      <td>1.873456</td>\n",
       "    </tr>\n",
       "    <tr>\n",
       "      <th>Raging Bull</th>\n",
       "      <td>Martin Scorsese</td>\n",
       "      <td>0.002514</td>\n",
       "    </tr>\n",
       "    <tr>\n",
       "      <th>The Color of Money</th>\n",
       "      <td>Martin Scorsese</td>\n",
       "      <td>3.789419</td>\n",
       "    </tr>\n",
       "    <tr>\n",
       "      <th>The Last Temptation of Christ</th>\n",
       "      <td>Martin Scorsese</td>\n",
       "      <td>1.196226</td>\n",
       "    </tr>\n",
       "  </tbody>\n",
       "</table>\n",
       "</div>"
      ],
      "text/plain": [
       "                                 director_name    return\n",
       "movie_title                                             \n",
       "Hugo                           Martin Scorsese  0.434236\n",
       "The Aviator                    Martin Scorsese  0.932808\n",
       "The Wolf of Wall Street        Martin Scorsese  1.168667\n",
       "Gangs of New York              Martin Scorsese  0.776796\n",
       "The Departed                   Martin Scorsese  1.470816\n",
       "Shutter Island                 Martin Scorsese  1.599605\n",
       "Casino                         Martin Scorsese  0.816121\n",
       "Mean Streets                   Martin Scorsese  0.065290\n",
       "Cape Fear                      Martin Scorsese  2.260000\n",
       "The Age of Innocence           Martin Scorsese  1.066667\n",
       "Bringing Out the Dead          Martin Scorsese  0.302549\n",
       "Kundun                         Martin Scorsese  0.197582\n",
       "Goodfellas                     Martin Scorsese  1.873456\n",
       "Raging Bull                    Martin Scorsese  0.002514\n",
       "The Color of Money             Martin Scorsese  3.789419\n",
       "The Last Temptation of Christ  Martin Scorsese  1.196226"
      ]
     },
     "execution_count": 28,
     "metadata": {},
     "output_type": "execute_result"
    }
   ],
   "source": [
    "sc1 = sc[condition2].dropna()\n",
    "sc1"
   ]
  },
  {
   "cell_type": "markdown",
   "metadata": {},
   "source": [
    "### We sort values in the year column in ascending order"
   ]
  },
  {
   "cell_type": "code",
   "execution_count": 29,
   "metadata": {},
   "outputs": [
    {
     "data": {
      "text/html": [
       "<div>\n",
       "<style scoped>\n",
       "    .dataframe tbody tr th:only-of-type {\n",
       "        vertical-align: middle;\n",
       "    }\n",
       "\n",
       "    .dataframe tbody tr th {\n",
       "        vertical-align: top;\n",
       "    }\n",
       "\n",
       "    .dataframe thead th {\n",
       "        text-align: right;\n",
       "    }\n",
       "</style>\n",
       "<table border=\"1\" class=\"dataframe\">\n",
       "  <thead>\n",
       "    <tr style=\"text-align: right;\">\n",
       "      <th></th>\n",
       "      <th>director_name</th>\n",
       "      <th>return</th>\n",
       "    </tr>\n",
       "    <tr>\n",
       "      <th>movie_title</th>\n",
       "      <th></th>\n",
       "      <th></th>\n",
       "    </tr>\n",
       "  </thead>\n",
       "  <tbody>\n",
       "    <tr>\n",
       "      <th>Raging Bull</th>\n",
       "      <td>Martin Scorsese</td>\n",
       "      <td>0.002514</td>\n",
       "    </tr>\n",
       "    <tr>\n",
       "      <th>Mean Streets</th>\n",
       "      <td>Martin Scorsese</td>\n",
       "      <td>0.065290</td>\n",
       "    </tr>\n",
       "    <tr>\n",
       "      <th>Kundun</th>\n",
       "      <td>Martin Scorsese</td>\n",
       "      <td>0.197582</td>\n",
       "    </tr>\n",
       "    <tr>\n",
       "      <th>Bringing Out the Dead</th>\n",
       "      <td>Martin Scorsese</td>\n",
       "      <td>0.302549</td>\n",
       "    </tr>\n",
       "    <tr>\n",
       "      <th>Hugo</th>\n",
       "      <td>Martin Scorsese</td>\n",
       "      <td>0.434236</td>\n",
       "    </tr>\n",
       "    <tr>\n",
       "      <th>Gangs of New York</th>\n",
       "      <td>Martin Scorsese</td>\n",
       "      <td>0.776796</td>\n",
       "    </tr>\n",
       "    <tr>\n",
       "      <th>Casino</th>\n",
       "      <td>Martin Scorsese</td>\n",
       "      <td>0.816121</td>\n",
       "    </tr>\n",
       "    <tr>\n",
       "      <th>The Aviator</th>\n",
       "      <td>Martin Scorsese</td>\n",
       "      <td>0.932808</td>\n",
       "    </tr>\n",
       "    <tr>\n",
       "      <th>The Age of Innocence</th>\n",
       "      <td>Martin Scorsese</td>\n",
       "      <td>1.066667</td>\n",
       "    </tr>\n",
       "    <tr>\n",
       "      <th>The Wolf of Wall Street</th>\n",
       "      <td>Martin Scorsese</td>\n",
       "      <td>1.168667</td>\n",
       "    </tr>\n",
       "    <tr>\n",
       "      <th>The Last Temptation of Christ</th>\n",
       "      <td>Martin Scorsese</td>\n",
       "      <td>1.196226</td>\n",
       "    </tr>\n",
       "    <tr>\n",
       "      <th>The Departed</th>\n",
       "      <td>Martin Scorsese</td>\n",
       "      <td>1.470816</td>\n",
       "    </tr>\n",
       "    <tr>\n",
       "      <th>Shutter Island</th>\n",
       "      <td>Martin Scorsese</td>\n",
       "      <td>1.599605</td>\n",
       "    </tr>\n",
       "    <tr>\n",
       "      <th>Goodfellas</th>\n",
       "      <td>Martin Scorsese</td>\n",
       "      <td>1.873456</td>\n",
       "    </tr>\n",
       "    <tr>\n",
       "      <th>Cape Fear</th>\n",
       "      <td>Martin Scorsese</td>\n",
       "      <td>2.260000</td>\n",
       "    </tr>\n",
       "    <tr>\n",
       "      <th>The Color of Money</th>\n",
       "      <td>Martin Scorsese</td>\n",
       "      <td>3.789419</td>\n",
       "    </tr>\n",
       "  </tbody>\n",
       "</table>\n",
       "</div>"
      ],
      "text/plain": [
       "                                 director_name    return\n",
       "movie_title                                             \n",
       "Raging Bull                    Martin Scorsese  0.002514\n",
       "Mean Streets                   Martin Scorsese  0.065290\n",
       "Kundun                         Martin Scorsese  0.197582\n",
       "Bringing Out the Dead          Martin Scorsese  0.302549\n",
       "Hugo                           Martin Scorsese  0.434236\n",
       "Gangs of New York              Martin Scorsese  0.776796\n",
       "Casino                         Martin Scorsese  0.816121\n",
       "The Aviator                    Martin Scorsese  0.932808\n",
       "The Age of Innocence           Martin Scorsese  1.066667\n",
       "The Wolf of Wall Street        Martin Scorsese  1.168667\n",
       "The Last Temptation of Christ  Martin Scorsese  1.196226\n",
       "The Departed                   Martin Scorsese  1.470816\n",
       "Shutter Island                 Martin Scorsese  1.599605\n",
       "Goodfellas                     Martin Scorsese  1.873456\n",
       "Cape Fear                      Martin Scorsese  2.260000\n",
       "The Color of Money             Martin Scorsese  3.789419"
      ]
     },
     "execution_count": 29,
     "metadata": {},
     "output_type": "execute_result"
    }
   ],
   "source": [
    "sc2 = sc1.sort_values('return',ascending=True)\n",
    "sc2"
   ]
  },
  {
   "cell_type": "markdown",
   "metadata": {},
   "source": [
    "### Create a bar graph that shows Martin Scorsese movies statistics success according to their financial return"
   ]
  },
  {
   "cell_type": "code",
   "execution_count": 30,
   "metadata": {},
   "outputs": [
    {
     "data": {
      "text/plain": [
       "<Figure size 720x432 with 0 Axes>"
      ]
     },
     "metadata": {},
     "output_type": "display_data"
    },
    {
     "data": {
      "image/png": "[encoded data removed]",
      "text/plain": [
       "<Figure size 432x288 with 1 Axes>"
      ]
     },
     "metadata": {},
     "output_type": "display_data"
    }
   ],
   "source": [
    "plt.style.use('ggplot')\n",
    "plt.figure(figsize=(10,6))\n",
    "sc2.plot.barh(alpha=.6,color='green',legend=False)\n",
    "plt.xticks(rotation='horizontal',color='brown')\n",
    "plt.yticks(rotation='horizontal',color='brown')\n",
    "plt.title('Martin Scorsese movies statistics success\\n according to their financial return',color='indianred')\n",
    "plt.xlabel('Financial return',color='indianred')\n",
    "plt.ylabel('Movie titles',color='indianred')\n",
    "plt.text(2,5,'Source: dataset \"movies\"',fontsize=13,color='indianred',alpha=0.6)\n",
    "plt.savefig('scorsese_return.jpg')\n",
    "plt.show()"
   ]
  },
  {
   "cell_type": "markdown",
   "metadata": {},
   "source": [
    "### Create new dataset by grouping two columns, finding the sum of values in one of the columns for a \n",
    "### specific object in another column and sort the lines of a new set in ascending order."
   ]
  },
  {
   "cell_type": "code",
   "execution_count": 31,
   "metadata": {},
   "outputs": [
    {
     "data": {
      "text/plain": [
       "actor_1_name\n",
       "Nicolas Cage               384000.0\n",
       "Joseph Gordon-Levitt       391000.0\n",
       "Kevin Spacey               396000.0\n",
       "Keanu Reeves               396000.0\n",
       "Gerard Butler              396000.0\n",
       "Philip Seymour Hoffman     440000.0\n",
       "Christian Bale             506000.0\n",
       "Jennifer Lawrence          510000.0\n",
       "Denzel Washington          522000.0\n",
       "Ryan Gosling               528000.0\n",
       "Robert Downey Jr.          546000.0\n",
       "Leonardo DiCaprio          580000.0\n",
       "Darcy Donavan              640000.0\n",
       "Jason Statham              650000.0\n",
       "J.K. Simmons               696000.0\n",
       "Jimmy Bennett              696000.0\n",
       "Matthew Ziff               780000.0\n",
       "Robert De Niro            1056000.0\n",
       "Robin Williams            1323000.0\n",
       "Johnny Depp               1440000.0\n",
       "Name: actor_1_facebook_likes, dtype: float64"
      ]
     },
     "execution_count": 31,
     "metadata": {},
     "output_type": "execute_result"
    }
   ],
   "source": [
    "g = m.groupby(\"actor_1_name\")['actor_1_facebook_likes'].sum().sort_values(ascending=True).tail(20)\n",
    "g"
   ]
  },
  {
   "cell_type": "markdown",
   "metadata": {},
   "source": [
    "### Create a bar graph that lists the most liked actors on Facebook."
   ]
  },
  {
   "cell_type": "code",
   "execution_count": 32,
   "metadata": {},
   "outputs": [
    {
     "data": {
      "image/png": "[encoded data removed]",
      "text/plain": [
       "<Figure size 504x504 with 1 Axes>"
      ]
     },
     "metadata": {},
     "output_type": "display_data"
    }
   ],
   "source": [
    "plt.style.use(\"ggplot\")\n",
    "fig = plt.figure(figsize=(7,7))\n",
    "g.plot.barh(alpha=.6,width=0.5)\n",
    "\n",
    "plt.title('The Most Liked Actors On Facebook', alpha=.6,color='black',fontsize=14)\n",
    "plt.xlabel('Number of likes',color='purple')\n",
    "plt.ylabel(\"Actors names\",color='purple')\n",
    "plt.text(990700,14,'Source: dataset \"movies\"',fontsize=11,color='purple',alpha=0.9)\n",
    "plt.savefig('liked_on_fb.jpg')\n",
    "plt.show()"
   ]
  },
  {
   "cell_type": "markdown",
   "metadata": {},
   "source": [
    "### Import seaborn library"
   ]
  },
  {
   "cell_type": "code",
   "execution_count": 33,
   "metadata": {},
   "outputs": [],
   "source": [
    "import seaborn as sns"
   ]
  },
  {
   "cell_type": "markdown",
   "metadata": {},
   "source": [
    "### Create a boxplot that shows movies duration"
   ]
  },
  {
   "cell_type": "code",
   "execution_count": 34,
   "metadata": {},
   "outputs": [
    {
     "name": "stderr",
     "output_type": "stream",
     "text": [
      "C:\\Users\\olgan\\anaconda3\\lib\\site-packages\\seaborn\\_decorators.py:36: FutureWarning: Pass the following variable as a keyword arg: x. From version 0.12, the only valid positional argument will be `data`, and passing other arguments without an explicit keyword will result in an error or misinterpretation.\n",
      "  warnings.warn(\n"
     ]
    },
    {
     "data": {
      "image/png": "[encoded data removed]",
      "text/plain": [
       "<Figure size 432x288 with 1 Axes>"
      ]
     },
     "metadata": {},
     "output_type": "display_data"
    }
   ],
   "source": [
    "sns.boxplot('duration',data=m,color='violet')\n",
    "plt.style.use(\"ggplot\")\n",
    "first_score=0\n",
    "last_score=350\n",
    "plt.xlim(first_score,last_score)\n",
    "plt.title('Statistics for movies duration', alpha=.6,color='black',fontsize=16)\n",
    "plt.xlabel('Movies duration (in minutes)',color='purple')\n",
    "plt.savefig('movies_duration.jpg')\n",
    "plt.show()"
   ]
  },
  {
   "cell_type": "markdown",
   "metadata": {},
   "source": [
    "### Create a countplot that illustrates IMDB score statistics for the movies of the whole dataset"
   ]
  },
  {
   "cell_type": "code",
   "execution_count": 39,
   "metadata": {},
   "outputs": [
    {
     "name": "stderr",
     "output_type": "stream",
     "text": [
      "C:\\Users\\olgan\\anaconda3\\lib\\site-packages\\seaborn\\_decorators.py:36: FutureWarning: Pass the following variable as a keyword arg: x. From version 0.12, the only valid positional argument will be `data`, and passing other arguments without an explicit keyword will result in an error or misinterpretation.\n",
      "  warnings.warn(\n"
     ]
    },
    {
     "data": {
      "image/png": "[encoded data removed]",
      "text/plain": [
       "<Figure size 504x504 with 1 Axes>"
      ]
     },
     "metadata": {},
     "output_type": "display_data"
    }
   ],
   "source": [
    "plt.style.use(\"ggplot\")\n",
    "fig = plt.figure(figsize=(7,7))\n",
    "sns.countplot('imdb_score', data=m)\n",
    "plt.xticks(rotation='horizontal')\n",
    "\n",
    "plt.title('IMDB score movies statistics', alpha=.99,fontsize=14,color='steelblue')\n",
    "plt.xlabel('IMDB score',alpha=.99,fontsize=13,color='steelblue')\n",
    "plt.ylabel(\"Number of movies\",alpha=.99,fontsize=13,color='steelblue')\n",
    "plt.xticks([0,3,13,23,33,43,53,63,73], rotation=45)\n",
    "plt.text(2,150,'Source: dataset \"movies\"',fontsize=13,color='black',alpha=0.6)\n",
    "plt.savefig('imdb_score.jpg')\n",
    "plt.show()"
   ]
  },
  {
   "cell_type": "code",
   "execution_count": null,
   "metadata": {},
   "outputs": [],
   "source": []
  }
 ],
 "metadata": {
  "kernelspec": {
   "display_name": "Python 3",
   "language": "python",
   "name": "python3"
  },
  "language_info": {
   "codemirror_mode": {
    "name": "ipython",
    "version": 3
   },
   "file_extension": ".py",
   "mimetype": "text/x-python",
   "name": "python",
   "nbconvert_exporter": "python",
   "pygments_lexer": "ipython3",
   "version": "3.8.8"
  }
 },
 "nbformat": 4,
 "nbformat_minor": 2
}
